{
 "cells": [
  {
   "cell_type": "markdown",
   "metadata": {},
   "source": [
    "## IMPORTANTO BIBLIOTECAS"
   ]
  },
  {
   "cell_type": "code",
   "execution_count": 1,
   "metadata": {},
   "outputs": [],
   "source": [
    "from sklearn.manifold import TSNE\n",
    "from sklearn.decomposition import PCA\n",
    "from sklearn.model_selection import train_test_split, cross_val_score, cross_val_predict\n",
    "from sklearn.neighbors import KNeighborsClassifier\n",
    "from sklearn.linear_model import LogisticRegression, SGDClassifier\n",
    "from sklearn.ensemble import RandomForestClassifier\n",
    "from sklearn.metrics import confusion_matrix, ConfusionMatrixDisplay\n",
    "from sklearn import preprocessing\n",
    "\n",
    "from tensorflow.keras.applications.inception_v3 import InceptionV3\n",
    "from tensorflow.keras.applications.efficientnet import EfficientNetB0, EfficientNetB1, EfficientNetB2, EfficientNetB3, EfficientNetB4, EfficientNetB5, EfficientNetB6, EfficientNetB7\n",
    "from tensorflow.keras.applications.resnet50 import ResNet50\n",
    "from tensorflow.keras.preprocessing import image\n",
    "from tensorflow.keras.applications.efficientnet import preprocess_input\n",
    "\n",
    "import matplotlib.pyplot as plt\n",
    "import pandas as pd\n",
    "import numpy as np\n",
    "import seaborn as sns\n",
    "\n",
    "import os"
   ]
  },
  {
   "cell_type": "markdown",
   "metadata": {},
   "source": [
    "## PARÂMETROS"
   ]
  },
  {
   "cell_type": "code",
   "execution_count": 2,
   "metadata": {},
   "outputs": [],
   "source": [
    "percentege_test_size = 0.2\n",
    "undersampling_size = 1300 # -1 para não fazer undersampling\n",
    "\n",
    "# diretorio = '../dados classificacao imagens/animais-kaggle/'\n",
    "# diretorio = '../dados classificacao imagens/dataset-documentos-full/'\n",
    "diretorio = '../dados classificacao imagens/pneumonia/'\n",
    "# diretorio = '../dados classificacao imagens/star-wars/'\n",
    "# diretorio = '/home/carlos/Downloads/dados-docs/'\n",
    "# diretorio = '../dados classificacao imagens/gatos-patos-caes-rapozas-coelhos/treino/'"
   ]
  },
  {
   "cell_type": "markdown",
   "metadata": {},
   "source": [
    "### CARREGANDO DATASET"
   ]
  },
  {
   "cell_type": "code",
   "execution_count": 3,
   "metadata": {},
   "outputs": [
    {
     "data": {
      "text/html": [
       "<div>\n",
       "<style scoped>\n",
       "    .dataframe tbody tr th:only-of-type {\n",
       "        vertical-align: middle;\n",
       "    }\n",
       "\n",
       "    .dataframe tbody tr th {\n",
       "        vertical-align: top;\n",
       "    }\n",
       "\n",
       "    .dataframe thead th {\n",
       "        text-align: right;\n",
       "    }\n",
       "</style>\n",
       "<table border=\"1\" class=\"dataframe\">\n",
       "  <thead>\n",
       "    <tr style=\"text-align: right;\">\n",
       "      <th></th>\n",
       "      <th>image</th>\n",
       "      <th>target</th>\n",
       "    </tr>\n",
       "  </thead>\n",
       "  <tbody>\n",
       "    <tr>\n",
       "      <th>0</th>\n",
       "      <td>../dados classificacao imagens/pneumonia/NORMA...</td>\n",
       "      <td>NORMAL</td>\n",
       "    </tr>\n",
       "    <tr>\n",
       "      <th>1</th>\n",
       "      <td>../dados classificacao imagens/pneumonia/PNEUM...</td>\n",
       "      <td>PNEUMONIA</td>\n",
       "    </tr>\n",
       "    <tr>\n",
       "      <th>2</th>\n",
       "      <td>../dados classificacao imagens/pneumonia/PNEUM...</td>\n",
       "      <td>PNEUMONIA</td>\n",
       "    </tr>\n",
       "    <tr>\n",
       "      <th>3</th>\n",
       "      <td>../dados classificacao imagens/pneumonia/NORMA...</td>\n",
       "      <td>NORMAL</td>\n",
       "    </tr>\n",
       "    <tr>\n",
       "      <th>4</th>\n",
       "      <td>../dados classificacao imagens/pneumonia/NORMA...</td>\n",
       "      <td>NORMAL</td>\n",
       "    </tr>\n",
       "    <tr>\n",
       "      <th>...</th>\n",
       "      <td>...</td>\n",
       "      <td>...</td>\n",
       "    </tr>\n",
       "    <tr>\n",
       "      <th>2595</th>\n",
       "      <td>../dados classificacao imagens/pneumonia/NORMA...</td>\n",
       "      <td>NORMAL</td>\n",
       "    </tr>\n",
       "    <tr>\n",
       "      <th>2596</th>\n",
       "      <td>../dados classificacao imagens/pneumonia/PNEUM...</td>\n",
       "      <td>PNEUMONIA</td>\n",
       "    </tr>\n",
       "    <tr>\n",
       "      <th>2597</th>\n",
       "      <td>../dados classificacao imagens/pneumonia/NORMA...</td>\n",
       "      <td>NORMAL</td>\n",
       "    </tr>\n",
       "    <tr>\n",
       "      <th>2598</th>\n",
       "      <td>../dados classificacao imagens/pneumonia/NORMA...</td>\n",
       "      <td>NORMAL</td>\n",
       "    </tr>\n",
       "    <tr>\n",
       "      <th>2599</th>\n",
       "      <td>../dados classificacao imagens/pneumonia/NORMA...</td>\n",
       "      <td>NORMAL</td>\n",
       "    </tr>\n",
       "  </tbody>\n",
       "</table>\n",
       "<p>2600 rows × 2 columns</p>\n",
       "</div>"
      ],
      "text/plain": [
       "                                                  image     target\n",
       "0     ../dados classificacao imagens/pneumonia/NORMA...     NORMAL\n",
       "1     ../dados classificacao imagens/pneumonia/PNEUM...  PNEUMONIA\n",
       "2     ../dados classificacao imagens/pneumonia/PNEUM...  PNEUMONIA\n",
       "3     ../dados classificacao imagens/pneumonia/NORMA...     NORMAL\n",
       "4     ../dados classificacao imagens/pneumonia/NORMA...     NORMAL\n",
       "...                                                 ...        ...\n",
       "2595  ../dados classificacao imagens/pneumonia/NORMA...     NORMAL\n",
       "2596  ../dados classificacao imagens/pneumonia/PNEUM...  PNEUMONIA\n",
       "2597  ../dados classificacao imagens/pneumonia/NORMA...     NORMAL\n",
       "2598  ../dados classificacao imagens/pneumonia/NORMA...     NORMAL\n",
       "2599  ../dados classificacao imagens/pneumonia/NORMA...     NORMAL\n",
       "\n",
       "[2600 rows x 2 columns]"
      ]
     },
     "execution_count": 3,
     "metadata": {},
     "output_type": "execute_result"
    }
   ],
   "source": [
    "targets = [x[0].replace(diretorio,'') for x in os.walk(diretorio)]\n",
    "\n",
    "targets = targets[1:len(targets)] # exclui o primeiro da lista pq é o próprio diretório\n",
    "\n",
    "dados = []\n",
    "\n",
    "for classe in targets:\n",
    "    imagens = os.listdir(diretorio+classe)\n",
    "    i = 0\n",
    "    for img in imagens:\n",
    "        i+=1\n",
    "        \n",
    "        if (not '.txt' in img) and (not 'segmentation' in img) and (not 'desktop.ini' in img):\n",
    "            dados.append([diretorio+classe+'/'+img,classe])\n",
    "        \n",
    "        if(i == undersampling_size and undersampling_size != -1):\n",
    "            break\n",
    "\n",
    "dados = np.array(dados)\n",
    "\n",
    "np.random.shuffle(dados)\n",
    "            \n",
    "df_dados = pd.DataFrame(dados,columns=['image','target'])\n",
    "\n",
    "df_dados"
   ]
  },
  {
   "cell_type": "markdown",
   "metadata": {},
   "source": [
    "## PREPARANDO DADOS"
   ]
  },
  {
   "cell_type": "code",
   "execution_count": 4,
   "metadata": {},
   "outputs": [
    {
     "name": "stderr",
     "output_type": "stream",
     "text": [
      "2022-09-27 20:27:36.458115: I tensorflow/stream_executor/cuda/cuda_gpu_executor.cc:937] successful NUMA node read from SysFS had negative value (-1), but there must be at least one NUMA node, so returning NUMA node zero\n",
      "2022-09-27 20:27:36.482675: I tensorflow/stream_executor/cuda/cuda_gpu_executor.cc:937] successful NUMA node read from SysFS had negative value (-1), but there must be at least one NUMA node, so returning NUMA node zero\n",
      "2022-09-27 20:27:36.482825: I tensorflow/stream_executor/cuda/cuda_gpu_executor.cc:937] successful NUMA node read from SysFS had negative value (-1), but there must be at least one NUMA node, so returning NUMA node zero\n",
      "2022-09-27 20:27:36.483428: I tensorflow/core/platform/cpu_feature_guard.cc:142] This TensorFlow binary is optimized with oneAPI Deep Neural Network Library (oneDNN) to use the following CPU instructions in performance-critical operations:  AVX2 FMA\n",
      "To enable them in other operations, rebuild TensorFlow with the appropriate compiler flags.\n",
      "2022-09-27 20:27:36.484388: I tensorflow/stream_executor/cuda/cuda_gpu_executor.cc:937] successful NUMA node read from SysFS had negative value (-1), but there must be at least one NUMA node, so returning NUMA node zero\n",
      "2022-09-27 20:27:36.484552: I tensorflow/stream_executor/cuda/cuda_gpu_executor.cc:937] successful NUMA node read from SysFS had negative value (-1), but there must be at least one NUMA node, so returning NUMA node zero\n",
      "2022-09-27 20:27:36.484655: I tensorflow/stream_executor/cuda/cuda_gpu_executor.cc:937] successful NUMA node read from SysFS had negative value (-1), but there must be at least one NUMA node, so returning NUMA node zero\n",
      "2022-09-27 20:27:36.835375: I tensorflow/stream_executor/cuda/cuda_gpu_executor.cc:937] successful NUMA node read from SysFS had negative value (-1), but there must be at least one NUMA node, so returning NUMA node zero\n",
      "2022-09-27 20:27:36.835532: I tensorflow/stream_executor/cuda/cuda_gpu_executor.cc:937] successful NUMA node read from SysFS had negative value (-1), but there must be at least one NUMA node, so returning NUMA node zero\n",
      "2022-09-27 20:27:36.835639: I tensorflow/stream_executor/cuda/cuda_gpu_executor.cc:937] successful NUMA node read from SysFS had negative value (-1), but there must be at least one NUMA node, so returning NUMA node zero\n",
      "2022-09-27 20:27:36.835725: I tensorflow/core/common_runtime/gpu/gpu_device.cc:1510] Created device /job:localhost/replica:0/task:0/device:GPU:0 with 4415 MB memory:  -> device: 0, name: NVIDIA GeForce RTX 2060, pci bus id: 0000:01:00.0, compute capability: 7.5\n"
     ]
    }
   ],
   "source": [
    "def getEmbedder():\n",
    "    # return EfficientNetB0(weights='imagenet', include_top=False)\n",
    "    # return EfficientNetB2(weights='imagenet', include_top=False)\n",
    "    return EfficientNetB3(weights='imagenet', include_top=False)\n",
    "    # return EfficientNetB4(weights='imagenet', include_top=False)\n",
    "    # return EfficientNetB7(weights='imagenet', include_top=False)\n",
    "    # return InceptionV3(weights='imagenet', include_top=False)\n",
    "\n",
    "def embedding(embedder,img_path):\n",
    "    img = image.load_img(img_path, target_size=(150, 150))\n",
    "    embed = image.img_to_array(img)\n",
    "    embed = np.expand_dims(embed, axis=0)\n",
    "    # embed = preprocess_input(embed)\n",
    "\n",
    "    features = embedder.predict(embed)\n",
    "\n",
    "    return features[0][0][0]\n",
    "\n",
    "embedder = getEmbedder()"
   ]
  },
  {
   "cell_type": "code",
   "execution_count": 5,
   "metadata": {},
   "outputs": [],
   "source": [
    "# embedding(embedder,dados[0][0])"
   ]
  },
  {
   "cell_type": "code",
   "execution_count": null,
   "metadata": {},
   "outputs": [
    {
     "name": "stderr",
     "output_type": "stream",
     "text": [
      "2022-09-27 20:27:38.455131: I tensorflow/compiler/mlir/mlir_graph_optimization_pass.cc:185] None of the MLIR Optimization Passes are enabled (registered 2)\n",
      "2022-09-27 20:27:40.136806: I tensorflow/stream_executor/cuda/cuda_dnn.cc:369] Loaded cuDNN version 8201\n"
     ]
    }
   ],
   "source": [
    "target = df_dados['target'].array\n",
    "\n",
    "array_features = []\n",
    "for x in dados:\n",
    "    array_features.append(embedding(embedder,x[0]))\n",
    "\n",
    "scaler = preprocessing.StandardScaler()\n",
    "\n",
    "array_features = scaler.fit_transform(array_features)\n",
    "\n",
    "df_features = pd.DataFrame(array_features)\n",
    "\n",
    "df_features"
   ]
  },
  {
   "cell_type": "markdown",
   "metadata": {},
   "source": [
    "## REDUZINDO A DIMENSIONALIDADE"
   ]
  },
  {
   "cell_type": "code",
   "execution_count": null,
   "metadata": {},
   "outputs": [],
   "source": [
    "model = TSNE(n_components=2, learning_rate='auto', init='random', perplexity=15)\n",
    "array_red = model.fit_transform(df_features) \n",
    "\n",
    "df_tsne = pd.DataFrame(array_red)\n",
    "\n",
    "df_tsne['target'] = target\n",
    "\n",
    "plt.rcParams['figure.figsize'] = [15, 10]\n",
    "\n",
    "sns.scatterplot(data=df_tsne, x=df_tsne[0], y=df_tsne[1], hue=df_tsne['target'], palette=\"colorblind\")\n",
    "\n",
    "plt.show()"
   ]
  },
  {
   "cell_type": "markdown",
   "metadata": {},
   "source": [
    "## TREINANDO E VALIDANDO O MODELO"
   ]
  },
  {
   "cell_type": "code",
   "execution_count": null,
   "metadata": {},
   "outputs": [],
   "source": [
    "def getModel():\n",
    "    return RandomForestClassifier(n_jobs=20)\n",
    "    # return LogisticRegression()#n_jobs=20, solver='sag', multi_class='ovr')\n",
    "    # return KNeighborsClassifier(n_neighbors=3,n_jobs=20)\n",
    "    # return XGBClassifier()\n",
    "    # return SGDClassifier(n_jobs=20,early_stopping=True,validation_fraction=0.05)"
   ]
  },
  {
   "cell_type": "code",
   "execution_count": null,
   "metadata": {},
   "outputs": [],
   "source": [
    "X_treino, X_teste, y_treino, y_teste = train_test_split(df_features.values,target,test_size=percentege_test_size)\n",
    "\n",
    "model = getModel().fit(X_treino, y_treino)\n",
    "\n",
    "score = model.score(X_teste, y_teste)\n",
    "\n",
    "score"
   ]
  },
  {
   "cell_type": "markdown",
   "metadata": {},
   "source": [
    "## VALIDANDO DE FORMA MAIS ELABORADA"
   ]
  },
  {
   "cell_type": "code",
   "execution_count": null,
   "metadata": {},
   "outputs": [],
   "source": [
    "scores = cross_val_score(getModel(),df_features.values,target,cv=10)\n",
    "\n",
    "np.mean(scores)"
   ]
  },
  {
   "cell_type": "markdown",
   "metadata": {},
   "source": [
    "## VISUALIZANDO A MATRIZ DE CONFUSÃO"
   ]
  },
  {
   "cell_type": "code",
   "execution_count": null,
   "metadata": {},
   "outputs": [],
   "source": [
    "predicoes = cross_val_predict(getModel(),df_features.values,target,cv=10)\n",
    "\n",
    "cm = confusion_matrix(target, predicoes)\n",
    "\n",
    "disp = ConfusionMatrixDisplay(confusion_matrix=cm,\n",
    "                              display_labels=model.classes_)\n",
    "disp.plot()\n",
    "\n",
    "plt.show()"
   ]
  }
 ],
 "metadata": {
  "kernelspec": {
   "display_name": "Python 3 (ipykernel)",
   "language": "python",
   "name": "python3"
  },
  "language_info": {
   "codemirror_mode": {
    "name": "ipython",
    "version": 3
   },
   "file_extension": ".py",
   "mimetype": "text/x-python",
   "name": "python",
   "nbconvert_exporter": "python",
   "pygments_lexer": "ipython3",
   "version": "3.8.13"
  }
 },
 "nbformat": 4,
 "nbformat_minor": 4
}
